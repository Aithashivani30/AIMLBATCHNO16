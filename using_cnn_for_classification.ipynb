{
  "cells": [
    {
      "cell_type": "markdown",
      "metadata": {
        "id": "view-in-github",
        "colab_type": "text"
      },
      "source": [
        "<a href=\"https://colab.research.google.com/github/Aithashivani30/AIMLBATCHNO16/blob/main/using_cnn_for_classification.ipynb\" target=\"_parent\"><img src=\"https://colab.research.google.com/assets/colab-badge.svg\" alt=\"Open In Colab\"/></a>"
      ]
    },
    {
      "cell_type": "code",
      "execution_count": null,
      "id": "525d1487",
      "metadata": {
        "_cell_guid": "b1076dfc-b9ad-4769-8c92-a6c4dae69d19",
        "_uuid": "8f2839f25d086af736a60e9eeb907d3b93b6e0e5",
        "execution": {
          "iopub.execute_input": "2024-04-23T14:19:36.371615Z",
          "iopub.status.busy": "2024-04-23T14:19:36.371225Z",
          "iopub.status.idle": "2024-04-23T14:19:39.569842Z",
          "shell.execute_reply": "2024-04-23T14:19:39.569034Z"
        },
        "papermill": {
          "duration": 3.207257,
          "end_time": "2024-04-23T14:19:39.572092",
          "exception": false,
          "start_time": "2024-04-23T14:19:36.364835",
          "status": "completed"
        },
        "tags": [],
        "id": "525d1487"
      },
      "outputs": [],
      "source": [
        "import numpy as np # linear algebra\n",
        "import pandas as pd # data processing, CSV file I/O (e.g. pd.read_csv)\n",
        "import matplotlib.pyplot as plt\n",
        "import matplotlib.image as mpimg\n",
        "import seaborn as sns"
      ]
    },
    {
      "cell_type": "code",
      "execution_count": null,
      "id": "42c7b40d",
      "metadata": {
        "execution": {
          "iopub.execute_input": "2024-04-23T14:19:39.582644Z",
          "iopub.status.busy": "2024-04-23T14:19:39.582276Z",
          "iopub.status.idle": "2024-04-23T14:19:57.950541Z",
          "shell.execute_reply": "2024-04-23T14:19:57.949590Z"
        },
        "papermill": {
          "duration": 18.37602,
          "end_time": "2024-04-23T14:19:57.952982",
          "exception": false,
          "start_time": "2024-04-23T14:19:39.576962",
          "status": "completed"
        },
        "tags": [],
        "id": "42c7b40d"
      },
      "outputs": [],
      "source": [
        "import tensorflow as tf\n",
        "from tensorflow import keras\n",
        "from tensorflow.keras import Sequential\n",
        "from tensorflow.keras.optimizers import Adam\n",
        "from tensorflow.keras.layers import Dense, MaxPooling2D, Flatten, Dropout, GlobalAveragePooling2D, AveragePooling2D,BatchNormalization\n",
        "from tensorflow.keras.applications import VGG16, VGG19, Xception, DenseNet121,EfficientNetB4\n",
        "from tensorflow.keras.callbacks import EarlyStopping"
      ]
    },
    {
      "cell_type": "code",
      "execution_count": null,
      "id": "7716aec1",
      "metadata": {
        "execution": {
          "iopub.execute_input": "2024-04-23T14:19:57.964865Z",
          "iopub.status.busy": "2024-04-23T14:19:57.963958Z",
          "iopub.status.idle": "2024-04-23T14:20:08.454798Z",
          "shell.execute_reply": "2024-04-23T14:20:08.453997Z"
        },
        "papermill": {
          "duration": 10.499097,
          "end_time": "2024-04-23T14:20:08.457218",
          "exception": false,
          "start_time": "2024-04-23T14:19:57.958121",
          "status": "completed"
        },
        "tags": [],
        "colab": {
          "base_uri": "https://localhost:8080/",
          "height": 359
        },
        "id": "7716aec1",
        "outputId": "c6f4c743-7e92-4df9-abc7-2b53014e5598"
      },
      "outputs": [
        {
          "output_type": "error",
          "ename": "NotFoundError",
          "evalue": "Could not find directory /kaggle/input/tomatoleaf/tomato/train",
          "traceback": [
            "\u001b[0;31m---------------------------------------------------------------------------\u001b[0m",
            "\u001b[0;31mNotFoundError\u001b[0m                             Traceback (most recent call last)",
            "\u001b[0;32m<ipython-input-8-75dfa7ede0b1>\u001b[0m in \u001b[0;36m<cell line: 1>\u001b[0;34m()\u001b[0m\n\u001b[0;32m----> 1\u001b[0;31m \u001b[0mtrain_data\u001b[0m \u001b[0;34m=\u001b[0m \u001b[0mtf\u001b[0m\u001b[0;34m.\u001b[0m\u001b[0mkeras\u001b[0m\u001b[0;34m.\u001b[0m\u001b[0mutils\u001b[0m\u001b[0;34m.\u001b[0m\u001b[0mimage_dataset_from_directory\u001b[0m\u001b[0;34m(\u001b[0m\u001b[0;34m'/kaggle/input/tomatoleaf/tomato/train'\u001b[0m\u001b[0;34m,\u001b[0m\u001b[0mlabels\u001b[0m\u001b[0;34m=\u001b[0m\u001b[0;34m'inferred'\u001b[0m\u001b[0;34m,\u001b[0m\u001b[0mlabel_mode\u001b[0m\u001b[0;34m=\u001b[0m\u001b[0;34m'categorical'\u001b[0m\u001b[0;34m,\u001b[0m\u001b[0mimage_size\u001b[0m\u001b[0;34m=\u001b[0m\u001b[0;34m(\u001b[0m\u001b[0;36m256\u001b[0m\u001b[0;34m,\u001b[0m\u001b[0;36m256\u001b[0m\u001b[0;34m)\u001b[0m\u001b[0;34m,\u001b[0m\u001b[0mbatch_size\u001b[0m\u001b[0;34m=\u001b[0m\u001b[0;36m32\u001b[0m\u001b[0;34m)\u001b[0m\u001b[0;34m\u001b[0m\u001b[0;34m\u001b[0m\u001b[0m\n\u001b[0m\u001b[1;32m      2\u001b[0m \u001b[0mtrain_data\u001b[0m \u001b[0;34m=\u001b[0m \u001b[0mtrain_data\u001b[0m\u001b[0;34m.\u001b[0m\u001b[0mmap\u001b[0m\u001b[0;34m(\u001b[0m\u001b[0;32mlambda\u001b[0m \u001b[0mx\u001b[0m\u001b[0;34m,\u001b[0m\u001b[0my\u001b[0m\u001b[0;34m:\u001b[0m\u001b[0;34m(\u001b[0m\u001b[0mx\u001b[0m\u001b[0;34m/\u001b[0m\u001b[0;36m255.0\u001b[0m\u001b[0;34m,\u001b[0m\u001b[0my\u001b[0m\u001b[0;34m)\u001b[0m\u001b[0;34m)\u001b[0m\u001b[0;34m\u001b[0m\u001b[0;34m\u001b[0m\u001b[0m\n",
            "\u001b[0;32m/usr/local/lib/python3.10/dist-packages/keras/src/utils/image_dataset.py\u001b[0m in \u001b[0;36mimage_dataset_from_directory\u001b[0;34m(directory, labels, label_mode, class_names, color_mode, batch_size, image_size, shuffle, seed, validation_split, subset, interpolation, follow_links, crop_to_aspect_ratio, **kwargs)\u001b[0m\n\u001b[1;32m    211\u001b[0m     \u001b[0;32mif\u001b[0m \u001b[0mseed\u001b[0m \u001b[0;32mis\u001b[0m \u001b[0;32mNone\u001b[0m\u001b[0;34m:\u001b[0m\u001b[0;34m\u001b[0m\u001b[0;34m\u001b[0m\u001b[0m\n\u001b[1;32m    212\u001b[0m         \u001b[0mseed\u001b[0m \u001b[0;34m=\u001b[0m \u001b[0mnp\u001b[0m\u001b[0;34m.\u001b[0m\u001b[0mrandom\u001b[0m\u001b[0;34m.\u001b[0m\u001b[0mrandint\u001b[0m\u001b[0;34m(\u001b[0m\u001b[0;36m1e6\u001b[0m\u001b[0;34m)\u001b[0m\u001b[0;34m\u001b[0m\u001b[0;34m\u001b[0m\u001b[0m\n\u001b[0;32m--> 213\u001b[0;31m     image_paths, labels, class_names = dataset_utils.index_directory(\n\u001b[0m\u001b[1;32m    214\u001b[0m         \u001b[0mdirectory\u001b[0m\u001b[0;34m,\u001b[0m\u001b[0;34m\u001b[0m\u001b[0;34m\u001b[0m\u001b[0m\n\u001b[1;32m    215\u001b[0m         \u001b[0mlabels\u001b[0m\u001b[0;34m,\u001b[0m\u001b[0;34m\u001b[0m\u001b[0;34m\u001b[0m\u001b[0m\n",
            "\u001b[0;32m/usr/local/lib/python3.10/dist-packages/keras/src/utils/dataset_utils.py\u001b[0m in \u001b[0;36mindex_directory\u001b[0;34m(directory, labels, formats, class_names, shuffle, seed, follow_links)\u001b[0m\n\u001b[1;32m    540\u001b[0m     \u001b[0;32melse\u001b[0m\u001b[0;34m:\u001b[0m\u001b[0;34m\u001b[0m\u001b[0;34m\u001b[0m\u001b[0m\n\u001b[1;32m    541\u001b[0m         \u001b[0msubdirs\u001b[0m \u001b[0;34m=\u001b[0m \u001b[0;34m[\u001b[0m\u001b[0;34m]\u001b[0m\u001b[0;34m\u001b[0m\u001b[0;34m\u001b[0m\u001b[0m\n\u001b[0;32m--> 542\u001b[0;31m         \u001b[0;32mfor\u001b[0m \u001b[0msubdir\u001b[0m \u001b[0;32min\u001b[0m \u001b[0msorted\u001b[0m\u001b[0;34m(\u001b[0m\u001b[0mtf\u001b[0m\u001b[0;34m.\u001b[0m\u001b[0mio\u001b[0m\u001b[0;34m.\u001b[0m\u001b[0mgfile\u001b[0m\u001b[0;34m.\u001b[0m\u001b[0mlistdir\u001b[0m\u001b[0;34m(\u001b[0m\u001b[0mdirectory\u001b[0m\u001b[0;34m)\u001b[0m\u001b[0;34m)\u001b[0m\u001b[0;34m:\u001b[0m\u001b[0;34m\u001b[0m\u001b[0;34m\u001b[0m\u001b[0m\n\u001b[0m\u001b[1;32m    543\u001b[0m             \u001b[0;32mif\u001b[0m \u001b[0mtf\u001b[0m\u001b[0;34m.\u001b[0m\u001b[0mio\u001b[0m\u001b[0;34m.\u001b[0m\u001b[0mgfile\u001b[0m\u001b[0;34m.\u001b[0m\u001b[0misdir\u001b[0m\u001b[0;34m(\u001b[0m\u001b[0mtf\u001b[0m\u001b[0;34m.\u001b[0m\u001b[0mio\u001b[0m\u001b[0;34m.\u001b[0m\u001b[0mgfile\u001b[0m\u001b[0;34m.\u001b[0m\u001b[0mjoin\u001b[0m\u001b[0;34m(\u001b[0m\u001b[0mdirectory\u001b[0m\u001b[0;34m,\u001b[0m \u001b[0msubdir\u001b[0m\u001b[0;34m)\u001b[0m\u001b[0;34m)\u001b[0m\u001b[0;34m:\u001b[0m\u001b[0;34m\u001b[0m\u001b[0;34m\u001b[0m\u001b[0m\n\u001b[1;32m    544\u001b[0m                 \u001b[0;32mif\u001b[0m \u001b[0;32mnot\u001b[0m \u001b[0msubdir\u001b[0m\u001b[0;34m.\u001b[0m\u001b[0mstartswith\u001b[0m\u001b[0;34m(\u001b[0m\u001b[0;34m\".\"\u001b[0m\u001b[0;34m)\u001b[0m\u001b[0;34m:\u001b[0m\u001b[0;34m\u001b[0m\u001b[0;34m\u001b[0m\u001b[0m\n",
            "\u001b[0;32m/usr/local/lib/python3.10/dist-packages/tensorflow/python/lib/io/file_io.py\u001b[0m in \u001b[0;36mlist_directory_v2\u001b[0;34m(path)\u001b[0m\n\u001b[1;32m    766\u001b[0m   \"\"\"\n\u001b[1;32m    767\u001b[0m   \u001b[0;32mif\u001b[0m \u001b[0;32mnot\u001b[0m \u001b[0mis_directory\u001b[0m\u001b[0;34m(\u001b[0m\u001b[0mpath\u001b[0m\u001b[0;34m)\u001b[0m\u001b[0;34m:\u001b[0m\u001b[0;34m\u001b[0m\u001b[0;34m\u001b[0m\u001b[0m\n\u001b[0;32m--> 768\u001b[0;31m     raise errors.NotFoundError(\n\u001b[0m\u001b[1;32m    769\u001b[0m         \u001b[0mnode_def\u001b[0m\u001b[0;34m=\u001b[0m\u001b[0;32mNone\u001b[0m\u001b[0;34m,\u001b[0m\u001b[0;34m\u001b[0m\u001b[0;34m\u001b[0m\u001b[0m\n\u001b[1;32m    770\u001b[0m         \u001b[0mop\u001b[0m\u001b[0;34m=\u001b[0m\u001b[0;32mNone\u001b[0m\u001b[0;34m,\u001b[0m\u001b[0;34m\u001b[0m\u001b[0;34m\u001b[0m\u001b[0m\n",
            "\u001b[0;31mNotFoundError\u001b[0m: Could not find directory /kaggle/input/tomatoleaf/tomato/train"
          ]
        }
      ],
      "source": [
        "train_data = tf.keras.utils.image_dataset_from_directory('/kaggle/input/tomatoleaf/tomato/train',labels='inferred',label_mode='categorical',image_size=(256,256),batch_size=32)\n",
        "train_data = train_data.map(lambda x,y:(x/255.0,y))"
      ]
    },
    {
      "cell_type": "code",
      "execution_count": null,
      "id": "0c4f62f7",
      "metadata": {
        "execution": {
          "iopub.execute_input": "2024-04-23T14:20:08.468201Z",
          "iopub.status.busy": "2024-04-23T14:20:08.467869Z",
          "iopub.status.idle": "2024-04-23T14:20:08.668448Z",
          "shell.execute_reply": "2024-04-23T14:20:08.667661Z"
        },
        "papermill": {
          "duration": 0.208587,
          "end_time": "2024-04-23T14:20:08.670733",
          "exception": false,
          "start_time": "2024-04-23T14:20:08.462146",
          "status": "completed"
        },
        "tags": [],
        "id": "0c4f62f7"
      },
      "outputs": [],
      "source": [
        "val_data = tf.keras.utils.image_dataset_from_directory('/kaggle/input/tomatoleaf/tomato/val',\n",
        "                                                                labels='inferred',\n",
        "                                                                label_mode='categorical',\n",
        "                                                                image_size=(256,256),\n",
        "                                                                batch_size=32)\n",
        "\n",
        "val_data = train_data.map(lambda x,y:(x/255.0,y))"
      ]
    },
    {
      "cell_type": "code",
      "execution_count": null,
      "id": "39ad11e5",
      "metadata": {
        "execution": {
          "iopub.execute_input": "2024-04-23T14:20:08.682417Z",
          "iopub.status.busy": "2024-04-23T14:20:08.682115Z",
          "iopub.status.idle": "2024-04-23T14:20:11.594559Z",
          "shell.execute_reply": "2024-04-23T14:20:11.593487Z"
        },
        "papermill": {
          "duration": 2.94267,
          "end_time": "2024-04-23T14:20:11.618650",
          "exception": false,
          "start_time": "2024-04-23T14:20:08.675980",
          "status": "completed"
        },
        "tags": [],
        "id": "39ad11e5"
      },
      "outputs": [],
      "source": [
        "import os\n",
        "path = \"/kaggle/input/tomatoleaf/tomato/train/Tomato___Tomato_Yellow_Leaf_Curl_Virus\"\n",
        "\n",
        "image_files = [f for f in os.listdir(path) if os.path.isfile(os.path.join(path, f))]\n",
        "\n",
        "# Display the first 6 images with their labels\n",
        "fig, axs = plt.subplots(2, 3, figsize=(15, 10))\n",
        "\n",
        "for i in range(6):\n",
        "    # Get the image file name and its label\n",
        "    image_file = image_files[i]\n",
        "    label = image_file.split('.')[0]\n",
        "\n",
        "    # Load and display the image\n",
        "    img_path = os.path.join(path, image_file)\n",
        "    img = mpimg.imread(img_path)\n",
        "    ax = axs[i // 3, i % 3]\n",
        "    ax.imshow(img)\n",
        "    ax.axis('off')\n",
        "    ax.set_title(label)\n",
        "\n",
        "plt.tight_layout()\n",
        "plt.show()"
      ]
    },
    {
      "cell_type": "code",
      "execution_count": null,
      "id": "d434e100",
      "metadata": {
        "execution": {
          "iopub.execute_input": "2024-04-23T14:20:11.677182Z",
          "iopub.status.busy": "2024-04-23T14:20:11.676827Z",
          "iopub.status.idle": "2024-04-23T14:20:14.395308Z",
          "shell.execute_reply": "2024-04-23T14:20:14.394125Z"
        },
        "papermill": {
          "duration": 2.768744,
          "end_time": "2024-04-23T14:20:14.415695",
          "exception": false,
          "start_time": "2024-04-23T14:20:11.646951",
          "status": "completed"
        },
        "tags": [],
        "id": "d434e100"
      },
      "outputs": [],
      "source": [
        "path = \"/kaggle/input/tomatoleaf/tomato/train/Tomato___Bacterial_spot\"\n",
        "\n",
        "# Get a list of all image file names in the directory\n",
        "image_files = [f for f in os.listdir(path) if os.path.isfile(os.path.join(path, f))]\n",
        "\n",
        "# Display the first 6 images with their labels\n",
        "fig, axs = plt.subplots(2, 3, figsize=(15, 10))\n",
        "\n",
        "for i in range(6):\n",
        "    # Get the image file name and its label\n",
        "    image_file = image_files[i]\n",
        "    label = image_file.split('.')[0]\n",
        "\n",
        "    # Load and display the image\n",
        "    img_path = os.path.join(path, image_file)\n",
        "    img = mpimg.imread(img_path)\n",
        "    ax = axs[i // 3, i % 3]\n",
        "    ax.imshow(img)\n",
        "    ax.axis('off')\n",
        "    ax.set_title(label)\n",
        "\n",
        "plt.tight_layout()\n",
        "plt.show()"
      ]
    },
    {
      "cell_type": "code",
      "execution_count": null,
      "id": "9e03e2f5",
      "metadata": {
        "execution": {
          "iopub.execute_input": "2024-04-23T14:20:14.521482Z",
          "iopub.status.busy": "2024-04-23T14:20:14.520653Z",
          "iopub.status.idle": "2024-04-23T14:20:17.366459Z",
          "shell.execute_reply": "2024-04-23T14:20:17.365647Z"
        },
        "papermill": {
          "duration": 2.901403,
          "end_time": "2024-04-23T14:20:17.368870",
          "exception": false,
          "start_time": "2024-04-23T14:20:14.467467",
          "status": "completed"
        },
        "tags": [],
        "id": "9e03e2f5"
      },
      "outputs": [],
      "source": [
        "conv_base = DenseNet121(weights='imagenet',\n",
        "                       include_top=False,\n",
        "                       input_shape=(256,256,3),\n",
        "                       pooling='avg')"
      ]
    },
    {
      "cell_type": "code",
      "execution_count": null,
      "id": "dbdb9ac8",
      "metadata": {
        "execution": {
          "iopub.execute_input": "2024-04-23T14:20:17.486470Z",
          "iopub.status.busy": "2024-04-23T14:20:17.485533Z",
          "iopub.status.idle": "2024-04-23T14:20:17.507391Z",
          "shell.execute_reply": "2024-04-23T14:20:17.505808Z"
        },
        "papermill": {
          "duration": 0.083973,
          "end_time": "2024-04-23T14:20:17.510553",
          "exception": false,
          "start_time": "2024-04-23T14:20:17.426580",
          "status": "completed"
        },
        "tags": [],
        "id": "dbdb9ac8"
      },
      "outputs": [],
      "source": [
        "conv_base.trainable = False"
      ]
    },
    {
      "cell_type": "code",
      "execution_count": null,
      "id": "b1e0f465",
      "metadata": {
        "execution": {
          "iopub.execute_input": "2024-04-23T14:20:17.630154Z",
          "iopub.status.busy": "2024-04-23T14:20:17.629391Z",
          "iopub.status.idle": "2024-04-23T14:20:17.646844Z",
          "shell.execute_reply": "2024-04-23T14:20:17.646038Z"
        },
        "papermill": {
          "duration": 0.078597,
          "end_time": "2024-04-23T14:20:17.648918",
          "exception": false,
          "start_time": "2024-04-23T14:20:17.570321",
          "status": "completed"
        },
        "tags": [],
        "id": "b1e0f465"
      },
      "outputs": [],
      "source": [
        "model = Sequential()\n",
        "model.add(conv_base)\n",
        "model.add(BatchNormalization())\n",
        "model.add(Dense(256,activation='relu'))\n",
        "model.add(Dropout(0.35))\n",
        "model.add(BatchNormalization())\n",
        "model.add(Dense(120,activation='relu'))\n",
        "model.add(Dense(10,activation='softmax'))"
      ]
    },
    {
      "cell_type": "code",
      "execution_count": null,
      "id": "f80f0d01",
      "metadata": {
        "execution": {
          "iopub.execute_input": "2024-04-23T14:20:17.758580Z",
          "iopub.status.busy": "2024-04-23T14:20:17.758207Z",
          "iopub.status.idle": "2024-04-23T14:20:17.773698Z",
          "shell.execute_reply": "2024-04-23T14:20:17.772948Z"
        },
        "papermill": {
          "duration": 0.072944,
          "end_time": "2024-04-23T14:20:17.775778",
          "exception": false,
          "start_time": "2024-04-23T14:20:17.702834",
          "status": "completed"
        },
        "tags": [],
        "id": "f80f0d01"
      },
      "outputs": [],
      "source": [
        "model.compile(optimizer='adam', loss = 'categorical_crossentropy',metrics=['accuracy'])"
      ]
    },
    {
      "cell_type": "code",
      "execution_count": null,
      "id": "1a3643e6",
      "metadata": {
        "execution": {
          "iopub.execute_input": "2024-04-23T14:20:17.884984Z",
          "iopub.status.busy": "2024-04-23T14:20:17.884088Z",
          "iopub.status.idle": "2024-04-23T14:23:51.600913Z",
          "shell.execute_reply": "2024-04-23T14:23:51.599927Z"
        },
        "papermill": {
          "duration": 213.872443,
          "end_time": "2024-04-23T14:23:51.701436",
          "exception": false,
          "start_time": "2024-04-23T14:20:17.828993",
          "status": "completed"
        },
        "tags": [],
        "id": "1a3643e6"
      },
      "outputs": [],
      "source": [
        "history = model.fit(train_data,epochs=100,validation_data=val_data,callbacks=[EarlyStopping(patience=0)])"
      ]
    },
    {
      "cell_type": "code",
      "execution_count": null,
      "id": "ae2423ec",
      "metadata": {
        "execution": {
          "iopub.execute_input": "2024-04-23T14:23:51.919425Z",
          "iopub.status.busy": "2024-04-23T14:23:51.919053Z",
          "iopub.status.idle": "2024-04-23T14:24:32.906790Z",
          "shell.execute_reply": "2024-04-23T14:24:32.905818Z"
        },
        "papermill": {
          "duration": 41.229158,
          "end_time": "2024-04-23T14:24:33.041114",
          "exception": false,
          "start_time": "2024-04-23T14:23:51.811956",
          "status": "completed"
        },
        "tags": [],
        "id": "ae2423ec"
      },
      "outputs": [],
      "source": [
        "# Evaluate the model on the validation data\n",
        "evaluation = model.evaluate(val_data)\n",
        "\n",
        "# Print the evaluation metrics\n",
        "print(\"Validation Loss:\", evaluation[0])\n",
        "print(\"Validation Accuracy:\", evaluation[1])"
      ]
    },
    {
      "cell_type": "code",
      "execution_count": null,
      "id": "3e20a8b8",
      "metadata": {
        "papermill": {
          "duration": 0.126763,
          "end_time": "2024-04-23T14:24:33.295676",
          "exception": false,
          "start_time": "2024-04-23T14:24:33.168913",
          "status": "completed"
        },
        "tags": [],
        "id": "3e20a8b8"
      },
      "outputs": [],
      "source": []
    },
    {
      "cell_type": "code",
      "execution_count": null,
      "id": "60d0f258",
      "metadata": {
        "papermill": {
          "duration": 0.130014,
          "end_time": "2024-04-23T14:24:33.601268",
          "exception": false,
          "start_time": "2024-04-23T14:24:33.471254",
          "status": "completed"
        },
        "tags": [],
        "id": "60d0f258"
      },
      "outputs": [],
      "source": []
    },
    {
      "cell_type": "code",
      "execution_count": null,
      "id": "afc67859",
      "metadata": {
        "papermill": {
          "duration": 0.12729,
          "end_time": "2024-04-23T14:24:33.855399",
          "exception": false,
          "start_time": "2024-04-23T14:24:33.728109",
          "status": "completed"
        },
        "tags": [],
        "id": "afc67859"
      },
      "outputs": [],
      "source": []
    }
  ],
  "metadata": {
    "kaggle": {
      "accelerator": "nvidiaTeslaT4",
      "dataSources": [
        {
          "datasetId": 619181,
          "sourceId": 1105687,
          "sourceType": "datasetVersion"
        }
      ],
      "dockerImageVersionId": 30699,
      "isGpuEnabled": true,
      "isInternetEnabled": true,
      "language": "python",
      "sourceType": "notebook"
    },
    "kernelspec": {
      "display_name": "Python 3",
      "language": "python",
      "name": "python3"
    },
    "language_info": {
      "codemirror_mode": {
        "name": "ipython",
        "version": 3
      },
      "file_extension": ".py",
      "mimetype": "text/x-python",
      "name": "python",
      "nbconvert_exporter": "python",
      "pygments_lexer": "ipython3",
      "version": "3.10.13"
    },
    "papermill": {
      "default_parameters": {},
      "duration": 305.160698,
      "end_time": "2024-04-23T14:24:37.489389",
      "environment_variables": {},
      "exception": null,
      "input_path": "__notebook__.ipynb",
      "output_path": "__notebook__.ipynb",
      "parameters": {},
      "start_time": "2024-04-23T14:19:32.328691",
      "version": "2.5.0"
    },
    "colab": {
      "provenance": [],
      "include_colab_link": true
    }
  },
  "nbformat": 4,
  "nbformat_minor": 5
}